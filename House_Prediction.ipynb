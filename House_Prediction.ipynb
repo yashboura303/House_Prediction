{
  "nbformat": 4,
  "nbformat_minor": 0,
  "metadata": {
    "colab": {
      "name": "House Prediction",
      "provenance": [],
      "collapsed_sections": [],
      "toc_visible": true,
      "include_colab_link": true
    },
    "kernelspec": {
      "display_name": "Python 3",
      "name": "python3"
    }
  },
  "cells": [
    {
      "cell_type": "markdown",
      "metadata": {
        "id": "view-in-github",
        "colab_type": "text"
      },
      "source": [
        "<a href=\"https://colab.research.google.com/github/yashboura303/House_Prediction/blob/master/House_Prediction.ipynb\" target=\"_parent\"><img src=\"https://colab.research.google.com/assets/colab-badge.svg\" alt=\"Open In Colab\"/></a>"
      ]
    },
    {
      "cell_type": "markdown",
      "metadata": {
        "colab_type": "text",
        "id": "qTXOGdaz4wy0"
      },
      "source": [
        "# Richer syntax highlighting\n",
        "\n",
        "Improved support for nested languages:\n",
        "\n",
        "```notebook-python\n",
        "df = pd.io.gbq.read_gbq('''\n",
        "  SELECT \n",
        "    REGEXP_EXTRACT(name, '[a-zA-Z]+'),\n",
        "    SUM(number) as count\n",
        "  FROM `bigquery-public-data.usa_names.usa_1910_2013`\n",
        "  WHERE state = 'TX'\n",
        "  GROUP BY name\n",
        "  ORDER BY count DESC\n",
        "  LIMIT 100\n",
        "''')\n",
        "```"
      ]
    },
    {
      "cell_type": "code",
      "metadata": {
        "colab_type": "code",
        "id": "N8OOdHbYbxmE",
        "colab": {}
      },
      "source": [
        "from bs4 import BeautifulSoup\n",
        "import requests\n",
        "import csv\n",
        "l = []\n",
        "def get_lat(strr):\n",
        "\tlat = strr.split(';')[1][16:].split(',')[0]\n",
        "\tlat = lat[1:len(lat)-1]\n",
        "\treturn lat\n",
        "def get_long(strr):\n",
        "\tlong = strr.split(';')[1][16:].split(',')[1]\n",
        "\tlong = long[1:len(long)-1]\n",
        "\treturn long\n",
        "with open('data_set.csv', 'w', newline='') as csvfile:\n",
        "\tfieldnames = [ 'carpet_area', 'bedrooms', 'bathrooms', 'car_parking', 'furnishing', 'transaction_type','floor', 'overlooking', 'price', 'lat', 'long']\n",
        "\twriter = csv.DictWriter(csvfile, fieldnames=fieldnames)\n",
        "\twriter.writeheader()\n",
        "\tfor i in range(10):\n",
        "\t\tsource = requests.get(f'https://www.magicbricks.com/flats-in-mumbai-for-sale-pppfs/page-{i}').text\n",
        "\t\tsoup = BeautifulSoup(source, 'lxml')\n",
        "\t\tfor div in soup.find_all(\"div\", class_='flex relative clearfix m-srp-card__container'):\n",
        "\t\t\tdic ={}\n",
        "\t\t\tif div.find(\"span\", class_=\"m-srp-card__price\"):\n",
        "\t\t\t\tdic['price']=div.find(\"span\", class_=\"m-srp-card__price\").text\n",
        "\t\t\telse:\n",
        "\t\t\t\tcontinue\n",
        "\t\t\tif div.find(\"span\", class_=\"m-srp-card__title__bhk\"):\n",
        "\t\t\t\tdic['bedrooms']=div.find(\"span\", class_=\"m-srp-card__title__bhk\").text.split()[0]\n",
        "\t\t\tif div.find(\"div\", class_='m-srp-card__link m-srp-card__link--nearby'):\n",
        "\t\t\t\tif get_lat(div.find(\"div\", class_='m-srp-card__link m-srp-card__link--nearby').get('onclick')) == '0.0':\n",
        "\t\t\t\t\tcontinue\n",
        "\t\t\t\telse:\n",
        "\t\t\t\t\tdic['lat'] = get_lat(div.find(\"div\", class_='m-srp-card__link m-srp-card__link--nearby').get('onclick'))\n",
        "\t\t\t\t\tdic['long'] = get_long(div.find(\"div\", class_='m-srp-card__link m-srp-card__link--nearby').get('onclick'))\n",
        "\t\t\telse:\n",
        "\t\t\t\tcontinue\n",
        "\t\t\t\t\t\n",
        "\t\t\tdic[\"car_parking\"] = 0\n",
        "\t\t\tfor div in (div.find_all(\"div\", class_=\"m-srp-card__summary__item\")):\n",
        "\t\t\t\tif div.find(\"div\", class_=\"m-srp-card__summary__title\").text == \"car parking\":\n",
        "\t\t\t\t\tmain_string = div.find(\"div\", class_=\"m-srp-card__summary__info\").text.strip()\n",
        "\t\t\t\t\tif main_string:\n",
        "\t\t\t\t\t\tif len(main_string) > 10:\n",
        "\t\t\t\t\t\t\tdic['car_parking']=int(main_string.split(\",\")[0].split()[0]) + int(main_string.split(\",\")[1].split()[0])\n",
        "\t\t\t\t\t\telif len(main_string) <= 10 and len(main_string)>1:\n",
        "\t\t\t\t\t\t\tdic[\"car_parking\"] = int(main_string.split(\",\")[0].split()[0])\n",
        "\t\t\t\tif div.find(\"div\", class_=\"m-srp-card__summary__title\").text == \"bathroom\":\n",
        "\t\t\t\t\tdic['bathrooms'] = div.find(\"div\", class_=\"m-srp-card__summary__info\").text\n",
        "\t\t\t\tif div.find(\"div\", class_=\"m-srp-card__summary__title\").text == \"furnishing\":\n",
        "\t\t\t\t\tmain_string = div.find(\"div\", class_=\"m-srp-card__summary__info\").text\n",
        "\t\t\t\t\tif main_string == \"Furnished\":\n",
        "\t\t\t\t\t\tdic['furnishing'] = 3\n",
        "\t\t\t\t\telif main_string == \"Unfurnished\":\n",
        "\t\t\t\t\t\tdic['furnishing'] = 1\n",
        "\t\t\t\t\telse:\n",
        "\t\t\t\t\t\tdic['furnishing'] = 2\n",
        "\t\t\t\tif div.find(\"div\", class_=\"m-srp-card__summary__title\").text == \"transaction\":\n",
        "\t\t\t\t\tmain_string = div.find(\"div\", class_=\"m-srp-card__summary__info\").text\n",
        "\t\t\t\t\tif main_string == \"Resale\":\n",
        "\t\t\t\t\t\tdic['transaction_type'] = 0\n",
        "\t\t\t\t\telse:\n",
        "\t\t\t\t\t\tdic['transaction_type'] = 1\n",
        "\t\t\t\tif div.find(\"div\", class_=\"m-srp-card__summary__title\").text == \"super area\":\n",
        "\t\t\t\t\tdic['carpet_area'] = int(div.find(\"div\", class_=\"m-srp-card__summary__info\").text.split()[0])/1.25\n",
        "\t\t\t\tif div.find(\"div\", class_=\"m-srp-card__summary__title\").text == \"carpet area\":\n",
        "\t\t\t\t\tdic['carpet_area'] = div.find(\"div\", class_=\"m-srp-card__summary__info\").text.split()[0]\n",
        "\t\t\t\tif div.find(\"div\", class_=\"m-srp-card__summary__title\").text == \"floor\":\n",
        "\t\t\t\t\tdic['floor'] = div.find(\"div\", class_=\"m-srp-card__summary__info\").text\n",
        "\t\t\t\tif div.find(\"div\", class_=\"m-srp-card__summary__title\").text == \"overlooking\":\n",
        "\t\t\t\t\tdic['overlooking'] = div.find(\"div\", class_=\"m-srp-card__summary__info\").text\n",
        "\t\t\t\t\n",
        "\t\t\twriter.writerow(dic)\n",
        "\n"
      ],
      "execution_count": 0,
      "outputs": []
    },
    {
      "cell_type": "markdown",
      "metadata": {
        "id": "1L3UY5YG_IM1",
        "colab_type": "text"
      },
      "source": [
        "# New Section"
      ]
    }
  ]
}